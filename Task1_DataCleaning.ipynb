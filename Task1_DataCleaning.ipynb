{
 "cells": [
  {
   "cell_type": "code",
   "execution_count": 2,
   "id": "8eefb6ad-37b0-4a22-8479-8b84c867f526",
   "metadata": {},
   "outputs": [],
   "source": [
    "import pandas as pd"
   ]
  },
  {
   "cell_type": "code",
   "execution_count": 4,
   "id": "8eb04575-dac9-4733-b085-c069aef1decc",
   "metadata": {},
   "outputs": [],
   "source": [
    "data = pd.read_csv(\"Auto Sales data.csv\")"
   ]
  },
  {
   "cell_type": "code",
   "execution_count": 10,
   "id": "938c774c-01fb-4392-af44-1edbc8298259",
   "metadata": {},
   "outputs": [
    {
     "data": {
      "text/html": [
       "<div>\n",
       "<style scoped>\n",
       "    .dataframe tbody tr th:only-of-type {\n",
       "        vertical-align: middle;\n",
       "    }\n",
       "\n",
       "    .dataframe tbody tr th {\n",
       "        vertical-align: top;\n",
       "    }\n",
       "\n",
       "    .dataframe thead th {\n",
       "        text-align: right;\n",
       "    }\n",
       "</style>\n",
       "<table border=\"1\" class=\"dataframe\">\n",
       "  <thead>\n",
       "    <tr style=\"text-align: right;\">\n",
       "      <th></th>\n",
       "      <th>ORDERNUMBER</th>\n",
       "      <th>QUANTITYORDERED</th>\n",
       "      <th>PRICEEACH</th>\n",
       "      <th>ORDERLINENUMBER</th>\n",
       "      <th>SALES</th>\n",
       "      <th>DAYS_SINCE_LASTORDER</th>\n",
       "      <th>MSRP</th>\n",
       "    </tr>\n",
       "  </thead>\n",
       "  <tbody>\n",
       "    <tr>\n",
       "      <th>count</th>\n",
       "      <td>2747.000000</td>\n",
       "      <td>2747.000000</td>\n",
       "      <td>2747.000000</td>\n",
       "      <td>2747.000000</td>\n",
       "      <td>2747.000000</td>\n",
       "      <td>2747.000000</td>\n",
       "      <td>2747.000000</td>\n",
       "    </tr>\n",
       "    <tr>\n",
       "      <th>mean</th>\n",
       "      <td>10259.761558</td>\n",
       "      <td>35.103021</td>\n",
       "      <td>101.098952</td>\n",
       "      <td>6.491081</td>\n",
       "      <td>3553.047583</td>\n",
       "      <td>1757.085912</td>\n",
       "      <td>100.691664</td>\n",
       "    </tr>\n",
       "    <tr>\n",
       "      <th>std</th>\n",
       "      <td>91.877521</td>\n",
       "      <td>9.762135</td>\n",
       "      <td>42.042549</td>\n",
       "      <td>4.230544</td>\n",
       "      <td>1838.953901</td>\n",
       "      <td>819.280576</td>\n",
       "      <td>40.114802</td>\n",
       "    </tr>\n",
       "    <tr>\n",
       "      <th>min</th>\n",
       "      <td>10100.000000</td>\n",
       "      <td>6.000000</td>\n",
       "      <td>26.880000</td>\n",
       "      <td>1.000000</td>\n",
       "      <td>482.130000</td>\n",
       "      <td>42.000000</td>\n",
       "      <td>33.000000</td>\n",
       "    </tr>\n",
       "    <tr>\n",
       "      <th>25%</th>\n",
       "      <td>10181.000000</td>\n",
       "      <td>27.000000</td>\n",
       "      <td>68.745000</td>\n",
       "      <td>3.000000</td>\n",
       "      <td>2204.350000</td>\n",
       "      <td>1077.000000</td>\n",
       "      <td>68.000000</td>\n",
       "    </tr>\n",
       "    <tr>\n",
       "      <th>50%</th>\n",
       "      <td>10264.000000</td>\n",
       "      <td>35.000000</td>\n",
       "      <td>95.550000</td>\n",
       "      <td>6.000000</td>\n",
       "      <td>3184.800000</td>\n",
       "      <td>1761.000000</td>\n",
       "      <td>99.000000</td>\n",
       "    </tr>\n",
       "    <tr>\n",
       "      <th>75%</th>\n",
       "      <td>10334.500000</td>\n",
       "      <td>43.000000</td>\n",
       "      <td>127.100000</td>\n",
       "      <td>9.000000</td>\n",
       "      <td>4503.095000</td>\n",
       "      <td>2436.500000</td>\n",
       "      <td>124.000000</td>\n",
       "    </tr>\n",
       "    <tr>\n",
       "      <th>max</th>\n",
       "      <td>10425.000000</td>\n",
       "      <td>97.000000</td>\n",
       "      <td>252.870000</td>\n",
       "      <td>18.000000</td>\n",
       "      <td>14082.800000</td>\n",
       "      <td>3562.000000</td>\n",
       "      <td>214.000000</td>\n",
       "    </tr>\n",
       "  </tbody>\n",
       "</table>\n",
       "</div>"
      ],
      "text/plain": [
       "        ORDERNUMBER  QUANTITYORDERED    PRICEEACH  ORDERLINENUMBER  \\\n",
       "count   2747.000000      2747.000000  2747.000000      2747.000000   \n",
       "mean   10259.761558        35.103021   101.098952         6.491081   \n",
       "std       91.877521         9.762135    42.042549         4.230544   \n",
       "min    10100.000000         6.000000    26.880000         1.000000   \n",
       "25%    10181.000000        27.000000    68.745000         3.000000   \n",
       "50%    10264.000000        35.000000    95.550000         6.000000   \n",
       "75%    10334.500000        43.000000   127.100000         9.000000   \n",
       "max    10425.000000        97.000000   252.870000        18.000000   \n",
       "\n",
       "              SALES  DAYS_SINCE_LASTORDER         MSRP  \n",
       "count   2747.000000           2747.000000  2747.000000  \n",
       "mean    3553.047583           1757.085912   100.691664  \n",
       "std     1838.953901            819.280576    40.114802  \n",
       "min      482.130000             42.000000    33.000000  \n",
       "25%     2204.350000           1077.000000    68.000000  \n",
       "50%     3184.800000           1761.000000    99.000000  \n",
       "75%     4503.095000           2436.500000   124.000000  \n",
       "max    14082.800000           3562.000000   214.000000  "
      ]
     },
     "execution_count": 10,
     "metadata": {},
     "output_type": "execute_result"
    }
   ],
   "source": [
    "data.describe()"
   ]
  },
  {
   "cell_type": "code",
   "execution_count": 14,
   "id": "0b0722ad-76e1-402e-b402-b88d5d2df67b",
   "metadata": {},
   "outputs": [
    {
     "name": "stdout",
     "output_type": "stream",
     "text": [
      "<class 'pandas.core.frame.DataFrame'>\n",
      "RangeIndex: 2747 entries, 0 to 2746\n",
      "Data columns (total 20 columns):\n",
      " #   Column                Non-Null Count  Dtype  \n",
      "---  ------                --------------  -----  \n",
      " 0   ORDERNUMBER           2747 non-null   int64  \n",
      " 1   QUANTITYORDERED       2747 non-null   int64  \n",
      " 2   PRICEEACH             2747 non-null   float64\n",
      " 3   ORDERLINENUMBER       2747 non-null   int64  \n",
      " 4   SALES                 2747 non-null   float64\n",
      " 5   ORDERDATE             2747 non-null   object \n",
      " 6   DAYS_SINCE_LASTORDER  2747 non-null   int64  \n",
      " 7   STATUS                2747 non-null   object \n",
      " 8   PRODUCTLINE           2747 non-null   object \n",
      " 9   MSRP                  2747 non-null   int64  \n",
      " 10  PRODUCTCODE           2747 non-null   object \n",
      " 11  CUSTOMERNAME          2747 non-null   object \n",
      " 12  PHONE                 2747 non-null   object \n",
      " 13  ADDRESSLINE1          2747 non-null   object \n",
      " 14  CITY                  2747 non-null   object \n",
      " 15  POSTALCODE            2747 non-null   object \n",
      " 16  COUNTRY               2747 non-null   object \n",
      " 17  CONTACTLASTNAME       2747 non-null   object \n",
      " 18  CONTACTFIRSTNAME      2747 non-null   object \n",
      " 19  DEALSIZE              2747 non-null   object \n",
      "dtypes: float64(2), int64(5), object(13)\n",
      "memory usage: 429.3+ KB\n",
      "None\n"
     ]
    }
   ],
   "source": [
    "print(data.info())"
   ]
  },
  {
   "cell_type": "code",
   "execution_count": 16,
   "id": "93d2d42a-a15a-4d60-b123-6e60e8cf0d69",
   "metadata": {},
   "outputs": [
    {
     "name": "stdout",
     "output_type": "stream",
     "text": [
      "ORDERNUMBER             0\n",
      "QUANTITYORDERED         0\n",
      "PRICEEACH               0\n",
      "ORDERLINENUMBER         0\n",
      "SALES                   0\n",
      "ORDERDATE               0\n",
      "DAYS_SINCE_LASTORDER    0\n",
      "STATUS                  0\n",
      "PRODUCTLINE             0\n",
      "MSRP                    0\n",
      "PRODUCTCODE             0\n",
      "CUSTOMERNAME            0\n",
      "PHONE                   0\n",
      "ADDRESSLINE1            0\n",
      "CITY                    0\n",
      "POSTALCODE              0\n",
      "COUNTRY                 0\n",
      "CONTACTLASTNAME         0\n",
      "CONTACTFIRSTNAME        0\n",
      "DEALSIZE                0\n",
      "dtype: int64\n"
     ]
    }
   ],
   "source": [
    "print(data.isnull().sum()) #column wise null value checking"
   ]
  },
  {
   "cell_type": "code",
   "execution_count": 18,
   "id": "c1f539dd-4260-4702-9289-b38d77c2b7e5",
   "metadata": {},
   "outputs": [
    {
     "name": "stdout",
     "output_type": "stream",
     "text": [
      "0       False\n",
      "1       False\n",
      "2       False\n",
      "3       False\n",
      "4       False\n",
      "        ...  \n",
      "2742    False\n",
      "2743    False\n",
      "2744    False\n",
      "2745    False\n",
      "2746    False\n",
      "Length: 2747, dtype: bool\n"
     ]
    }
   ],
   "source": [
    "print(data.duplicated())"
   ]
  },
  {
   "cell_type": "code",
   "execution_count": 22,
   "id": "b986263c-e2da-4f9d-b7e7-1a043306a684",
   "metadata": {},
   "outputs": [],
   "source": [
    "data.columns = data.columns.str.strip().str.lower().str.replace(' ', '_') # column headers to be clean and uniform "
   ]
  },
  {
   "cell_type": "code",
   "execution_count": 26,
   "id": "658947a0-4220-4cdd-8d93-c8be2f214460",
   "metadata": {},
   "outputs": [
    {
     "name": "stdout",
     "output_type": "stream",
     "text": [
      "   ordernumber  quantityordered  priceeach  orderlinenumber    sales  \\\n",
      "0        10107               30      95.70                2  2871.00   \n",
      "1        10121               34      81.35                5  2765.90   \n",
      "2        10134               41      94.74                2  3884.34   \n",
      "\n",
      "    orderdate  days_since_lastorder   status  productline  msrp productcode  \\\n",
      "0  24/02/2018                   828  Shipped  Motorcycles    95    S10_1678   \n",
      "1  07/05/2018                   757  Shipped  Motorcycles    95    S10_1678   \n",
      "2  01/07/2018                   703  Shipped  Motorcycles    95    S10_1678   \n",
      "\n",
      "         customername             phone                   addressline1   city  \\\n",
      "0   Land of Toys Inc.        2125557818        897 Long Airport Avenue    NYC   \n",
      "1  Reims Collectables        26.47.1555             59 rue de l'Abbaye  Reims   \n",
      "2     Lyon Souveniers  +33 1 46 62 7555  27 rue du Colonel Pierre Avia  Paris   \n",
      "\n",
      "  postalcode country contactlastname contactfirstname dealsize  \n",
      "0      10022     USA              Yu             Kwai    Small  \n",
      "1      51100  France         Henriot             Paul    Small  \n",
      "2      75508  France        Da Cunha           Daniel   Medium  \n"
     ]
    }
   ],
   "source": [
    "print(data.head(3))"
   ]
  },
  {
   "cell_type": "code",
   "execution_count": 33,
   "id": "7780d489-0cd0-4378-a43d-0db0b634bcbe",
   "metadata": {},
   "outputs": [],
   "source": [
    "data['phone'] = pd.to_numeric(data['phone'], errors='coerce').astype('Int64')\n"
   ]
  },
  {
   "cell_type": "code",
   "execution_count": 35,
   "id": "82773887-0726-491e-9eff-744ae2b2f2ee",
   "metadata": {},
   "outputs": [
    {
     "name": "stdout",
     "output_type": "stream",
     "text": [
      "0       2125557818\n",
      "1             <NA>\n",
      "2             <NA>\n",
      "3       6265557265\n",
      "4       6505556809\n",
      "           ...    \n",
      "2742          <NA>\n",
      "2743          <NA>\n",
      "2744          <NA>\n",
      "2745          <NA>\n",
      "2746    6175559555\n",
      "Name: phone, Length: 2747, dtype: Int64\n"
     ]
    }
   ],
   "source": [
    "print(data['phone'])"
   ]
  },
  {
   "cell_type": "code",
   "execution_count": 37,
   "id": "f677d318-6211-42ca-9e61-22623184a7da",
   "metadata": {},
   "outputs": [
    {
     "name": "stdout",
     "output_type": "stream",
     "text": [
      "ordernumber                0\n",
      "quantityordered            0\n",
      "priceeach                  0\n",
      "orderlinenumber            0\n",
      "sales                      0\n",
      "orderdate                  0\n",
      "days_since_lastorder       0\n",
      "status                     0\n",
      "productline                0\n",
      "msrp                       0\n",
      "productcode                0\n",
      "customername               0\n",
      "phone                   1819\n",
      "addressline1               0\n",
      "city                       0\n",
      "postalcode                 0\n",
      "country                    0\n",
      "contactlastname            0\n",
      "contactfirstname           0\n",
      "dealsize                   0\n",
      "dtype: int64\n"
     ]
    }
   ],
   "source": [
    "print(data.isnull().sum()) #to check null values"
   ]
  },
  {
   "cell_type": "code",
   "execution_count": 73,
   "id": "f0fb1b0b-6081-4ee5-a28f-1825af472133",
   "metadata": {},
   "outputs": [
    {
     "name": "stdout",
     "output_type": "stream",
     "text": [
      "      ordernumber  quantityordered  priceeach  orderlinenumber    sales  \\\n",
      "0           10107               30      95.70                2  2871.00   \n",
      "3           10145               45      83.26                6  3746.70   \n",
      "4           10168               36      96.66                1  3479.76   \n",
      "9           10237               23     101.44                7  2333.12   \n",
      "10          10251               28     113.88                2  3188.64   \n",
      "...           ...              ...        ...              ...      ...   \n",
      "2728        10185               28      64.43                6  1804.04   \n",
      "2731        10222               36      63.34               18  2280.24   \n",
      "2733        10248               23      65.52                9  1506.96   \n",
      "2741        10337               42      97.16                5  4080.72   \n",
      "2746        10414               47      65.52                9  3079.44   \n",
      "\n",
      "      orderdate  days_since_lastorder     status  productline  msrp  ...  \\\n",
      "0    2018-02-24                   828    Shipped  Motorcycles    95  ...   \n",
      "3    2018-08-25                   649    Shipped  Motorcycles    95  ...   \n",
      "4    2018-10-28                   586    Shipped  Motorcycles    95  ...   \n",
      "9    2019-04-05                   432    Shipped  Motorcycles    95  ...   \n",
      "10   2019-05-18                   390    Shipped  Motorcycles    95  ...   \n",
      "...         ...                   ...        ...          ...   ...  ...   \n",
      "2728 2018-11-14                  3293    Shipped        Ships    54  ...   \n",
      "2731 2019-02-19                  3199    Shipped        Ships    54  ...   \n",
      "2733 2019-05-07                  3124  Cancelled        Ships    54  ...   \n",
      "2741 2019-11-21                  2934    Shipped        Ships    54  ...   \n",
      "2746 2020-05-06                  2772    On Hold        Ships    54  ...   \n",
      "\n",
      "                      customername       phone             addressline1  \\\n",
      "0                Land of Toys Inc.  2125557818  897 Long Airport Avenue   \n",
      "3                Toys4GrownUps.com  6265557265       78934 Hillside Dr.   \n",
      "4             Technics Stores Inc.  6505556809        9408 Furth Circle   \n",
      "9                  Vitachrome Inc.  2125551500        2678 Kingston Rd.   \n",
      "10         Tekni Collectables Inc.  2015559350            7476 Moss Rd.   \n",
      "...                            ...         ...                      ...   \n",
      "2728           Mini Creations Ltd.  5085559555        4575 Hillside Dr.   \n",
      "2731  Collectable Mini Designs Co.  7605558146         361 Furth Circle   \n",
      "2733             Land of Toys Inc.  2125557818  897 Long Airport Avenue   \n",
      "2741          Classic Legends Inc.  2125558493         5905 Pompton St.   \n",
      "2746             Gifts4AllAges.com  6175559555       8616 Spinnaker Dr.   \n",
      "\n",
      "             city postalcode country contactlastname contactfirstname  \\\n",
      "0             NYC      10022     USA              Yu             Kwai   \n",
      "3        Pasadena      90003     USA           Young            Julie   \n",
      "4      Burlingame      94217     USA          Hirano             Juri   \n",
      "9             NYC      10022     USA           Frick          Michael   \n",
      "10         Newark      94019     USA           Brown          William   \n",
      "...           ...        ...     ...             ...              ...   \n",
      "2728  New Bedford      50553     USA             Tam           Wing C   \n",
      "2731    San Diego      91217     USA        Thompson          Valarie   \n",
      "2733          NYC      10022     USA              Yu             Kwai   \n",
      "2741          NYC      10022     USA       Hernandez            Maria   \n",
      "2746       Boston      51003     USA         Yoshido             Juri   \n",
      "\n",
      "     dealsize orderdate_display  \n",
      "0       Small        24-02-2018  \n",
      "3      Medium        25-08-2018  \n",
      "4      Medium        28-10-2018  \n",
      "9       Small        05-04-2019  \n",
      "10     Medium        18-05-2019  \n",
      "...       ...               ...  \n",
      "2728    Small        14-11-2018  \n",
      "2731    Small        19-02-2019  \n",
      "2733    Small        07-05-2019  \n",
      "2741   Medium        21-11-2019  \n",
      "2746   Medium        06-05-2020  \n",
      "\n",
      "[928 rows x 21 columns]\n"
     ]
    }
   ],
   "source": [
    "print(data.dropna()) #removes null values\n"
   ]
  },
  {
   "cell_type": "code",
   "execution_count": 65,
   "id": "88e3a742-53ee-458a-a8fe-3799d54cb907",
   "metadata": {},
   "outputs": [],
   "source": [
    "data['orderdate'] = pd.to_datetime(data['orderdate'], errors='coerce')  # Converts to datetime\n",
    "#data['orderdate'] = data['orderdate'].dt.strftime('%d-%m-%Y') #Format as dd-mm-yyyy {commenting out as it converting dtype=object}\n"
   ]
  },
  {
   "cell_type": "code",
   "execution_count": 67,
   "id": "1cab2cdf-128b-47d0-b4f5-9b96a78750a7",
   "metadata": {},
   "outputs": [
    {
     "name": "stdout",
     "output_type": "stream",
     "text": [
      "0      2018-02-24\n",
      "1      2018-05-07\n",
      "2      2018-07-01\n",
      "3      2018-08-25\n",
      "4      2018-10-28\n",
      "          ...    \n",
      "2742   2019-12-02\n",
      "2743   2020-01-31\n",
      "2744   2020-03-01\n",
      "2745   2020-03-28\n",
      "2746   2020-05-06\n",
      "Name: orderdate, Length: 2747, dtype: datetime64[ns]\n"
     ]
    }
   ],
   "source": [
    "print(data['orderdate'])"
   ]
  },
  {
   "cell_type": "code",
   "execution_count": 77,
   "id": "1a6110f0-f2f8-4d01-90e4-fc44dd7c6764",
   "metadata": {},
   "outputs": [],
   "source": [
    "data.to_csv(\"cleaned_data.csv\", index=False)"
   ]
  },
  {
   "cell_type": "code",
   "execution_count": 79,
   "id": "02638b0a-9c72-4b2d-89dd-9de9dcee7996",
   "metadata": {},
   "outputs": [
    {
     "name": "stdout",
     "output_type": "stream",
     "text": [
      "      ordernumber  quantityordered  priceeach  orderlinenumber    sales  \\\n",
      "0           10107               30      95.70                2  2871.00   \n",
      "1           10121               34      81.35                5  2765.90   \n",
      "2           10134               41      94.74                2  3884.34   \n",
      "3           10145               45      83.26                6  3746.70   \n",
      "4           10168               36      96.66                1  3479.76   \n",
      "...           ...              ...        ...              ...      ...   \n",
      "2742        10350               20     112.22               15  2244.40   \n",
      "2743        10373               29     137.19                1  3978.51   \n",
      "2744        10386               43     125.99                4  5417.57   \n",
      "2745        10397               34      62.24                1  2116.16   \n",
      "2746        10414               47      65.52                9  3079.44   \n",
      "\n",
      "      orderdate  days_since_lastorder    status  productline  msrp  ...  \\\n",
      "0    2018-02-24                   828   Shipped  Motorcycles    95  ...   \n",
      "1    2018-05-07                   757   Shipped  Motorcycles    95  ...   \n",
      "2    2018-07-01                   703   Shipped  Motorcycles    95  ...   \n",
      "3    2018-08-25                   649   Shipped  Motorcycles    95  ...   \n",
      "4    2018-10-28                   586   Shipped  Motorcycles    95  ...   \n",
      "...         ...                   ...       ...          ...   ...  ...   \n",
      "2742 2019-12-02                  2924   Shipped        Ships    54  ...   \n",
      "2743 2020-01-31                  2865   Shipped        Ships    54  ...   \n",
      "2744 2020-03-01                  2836  Resolved        Ships    54  ...   \n",
      "2745 2020-03-28                  2810   Shipped        Ships    54  ...   \n",
      "2746 2020-05-06                  2772   On Hold        Ships    54  ...   \n",
      "\n",
      "                 customername       phone                   addressline1  \\\n",
      "0           Land of Toys Inc.  2125557818        897 Long Airport Avenue   \n",
      "1          Reims Collectables        <NA>             59 rue de l'Abbaye   \n",
      "2             Lyon Souveniers        <NA>  27 rue du Colonel Pierre Avia   \n",
      "3           Toys4GrownUps.com  6265557265             78934 Hillside Dr.   \n",
      "4        Technics Stores Inc.  6505556809              9408 Furth Circle   \n",
      "...                       ...         ...                            ...   \n",
      "2742    Euro Shopping Channel        <NA>             C/ Moralzarzal, 86   \n",
      "2743  Oulu Toy Supplies, Inc.        <NA>                    Torikatu 38   \n",
      "2744    Euro Shopping Channel        <NA>             C/ Moralzarzal, 86   \n",
      "2745             Alpha Cognac        <NA>          1 rue Alsace-Lorraine   \n",
      "2746        Gifts4AllAges.com  6175559555             8616 Spinnaker Dr.   \n",
      "\n",
      "            city postalcode  country contactlastname contactfirstname  \\\n",
      "0            NYC      10022      USA              Yu             Kwai   \n",
      "1          Reims      51100   France         Henriot             Paul   \n",
      "2          Paris      75508   France        Da Cunha           Daniel   \n",
      "3       Pasadena      90003      USA           Young            Julie   \n",
      "4     Burlingame      94217      USA          Hirano             Juri   \n",
      "...          ...        ...      ...             ...              ...   \n",
      "2742      Madrid      28034    Spain          Freyre            Diego   \n",
      "2743        Oulu      90110  Finland       Koskitalo           Pirkko   \n",
      "2744      Madrid      28034    Spain          Freyre            Diego   \n",
      "2745    Toulouse      31000   France          Roulet          Annette   \n",
      "2746      Boston      51003      USA         Yoshido             Juri   \n",
      "\n",
      "     dealsize orderdate_display  \n",
      "0       Small        24-02-2018  \n",
      "1       Small        07-05-2018  \n",
      "2      Medium        01-07-2018  \n",
      "3      Medium        25-08-2018  \n",
      "4      Medium        28-10-2018  \n",
      "...       ...               ...  \n",
      "2742    Small        02-12-2019  \n",
      "2743   Medium        31-01-2020  \n",
      "2744   Medium        01-03-2020  \n",
      "2745    Small        28-03-2020  \n",
      "2746   Medium        06-05-2020  \n",
      "\n",
      "[2747 rows x 21 columns]\n"
     ]
    }
   ],
   "source": [
    "print(data)"
   ]
  },
  {
   "cell_type": "code",
   "execution_count": null,
   "id": "adcf24d0-80b5-4abe-bd0a-ced4dd2a7dd0",
   "metadata": {},
   "outputs": [],
   "source": []
  }
 ],
 "metadata": {
  "kernelspec": {
   "display_name": "Python [conda env:base] *",
   "language": "python",
   "name": "conda-base-py"
  },
  "language_info": {
   "codemirror_mode": {
    "name": "ipython",
    "version": 3
   },
   "file_extension": ".py",
   "mimetype": "text/x-python",
   "name": "python",
   "nbconvert_exporter": "python",
   "pygments_lexer": "ipython3",
   "version": "3.10.14"
  }
 },
 "nbformat": 4,
 "nbformat_minor": 5
}
